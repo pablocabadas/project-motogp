{
 "cells": [
  {
   "cell_type": "code",
   "execution_count": null,
   "metadata": {},
   "outputs": [],
   "source": [
    "import pandas as pd\n",
    "import numpy as np\n",
    "from pandas import json_normalize\n",
    "import requests \n",
    "import json\n",
    "import os\n",
    "from dotenv import load_dotenv\n",
    "import time\n",
    "import sys\n",
    "import seaborn as sns\n",
    "import matplotlib.pyplot as plt\n",
    "sys.path.append(\"../\")"
   ]
  },
  {
   "cell_type": "code",
   "execution_count": null,
   "metadata": {},
   "outputs": [],
   "source": [
    "df = pd.read_csv(\"Falcon_9_and_Falcon_Heavy_launches.csv\")\n",
    "df.columns\n",
    "df = df[['Date', 'Time', 'Version, Booster', 'Launch_Site', 'Payload', \n",
    "        'Payload_Mass', 'Orbit', 'Customer', 'Launch_Outcome', 'Booster_landing']]\n",
    "df"
   ]
  },
  {
   "cell_type": "code",
   "execution_count": null,
   "metadata": {},
   "outputs": [],
   "source": [
    "f9_filter = df['Version, Booster'].str.contains('F9 B5')\n",
    "df_f9b5 = df[f9_filter]\n",
    "df_f9b5"
   ]
  },
  {
   "cell_type": "code",
   "execution_count": null,
   "metadata": {},
   "outputs": [],
   "source": [
    "df_f9b5['Launch_Outcome'].value_counts()"
   ]
  },
  {
   "cell_type": "code",
   "execution_count": null,
   "metadata": {},
   "outputs": [],
   "source": [
    "df_f9b5['Booster_landing'].value_counts()"
   ]
  },
  {
   "cell_type": "code",
   "execution_count": null,
   "metadata": {},
   "outputs": [],
   "source": [
    "fig, axs = plt.subplots(ncols=2, figsize=(18,7))\n",
    "df_f9b5['Booster_landing'].value_counts().plot(kind=\"bar\", ax=axs[1])\n",
    "axs[1].set_title(\"Booster landing\")\n",
    "df_f9b5['Launch_Outcome'].value_counts().plot(kind=\"bar\", ax=axs[0])\n",
    "axs[0].set_title(\"Launch outcome\")\n",
    "plt.show()\n",
    "fig.savefig('launch_landing.jpg')"
   ]
  },
  {
   "cell_type": "code",
   "execution_count": null,
   "metadata": {},
   "outputs": [],
   "source": [
    "df_f9b5['Orbit'].mode()"
   ]
  },
  {
   "cell_type": "code",
   "execution_count": null,
   "metadata": {},
   "outputs": [],
   "source": [
    "df_f9b5['Orbit'].value_counts().plot(kind=\"bar\", figsize=(18,7));\n",
    "plt.savefig('orbit.jpg')"
   ]
  },
  {
   "cell_type": "code",
   "execution_count": null,
   "metadata": {},
   "outputs": [],
   "source": [
    "df_f9b5['Customer'].mode()"
   ]
  },
  {
   "cell_type": "code",
   "execution_count": null,
   "metadata": {},
   "outputs": [],
   "source": [
    "df_f9b5['Customer'].value_counts().plot(kind=\"bar\", figsize=(18,7));\n",
    "fig.savefig(users/'customer.jpg')"
   ]
  },
  {
   "cell_type": "code",
   "execution_count": null,
   "metadata": {},
   "outputs": [],
   "source": [
    "df_f9b5['Launch_Site'].unique()"
   ]
  },
  {
   "cell_type": "code",
   "execution_count": null,
   "metadata": {},
   "outputs": [],
   "source": [
    "nasa_filter = df['Customer'].str.contains('NASA')\n",
    "df_f9b5_nasa = df_f9b5[nasa_filter]\n",
    "df_f9b5_nasa"
   ]
  },
  {
   "cell_type": "code",
   "execution_count": null,
   "metadata": {},
   "outputs": [],
   "source": [
    "def get_iss_sl_positions(numb_of_samples):\n",
    "    url = \"http://api.open-notify.org/iss-now.json\"\n",
    "    url2 = \"https://satellitemap.space/json/sl.json?0.2592483420529641+v1007+19253\"\n",
    "    position_iss = []\n",
    "    position_sl = []\n",
    "    location_iss = requests.get(url).json()\n",
    "    location_sl = requests.get(url2).json()['sats'][1:]\n",
    "    \n",
    "    for i in range(numb_of_samples):\n",
    "\n",
    "        if location_iss['message'] == 'success':\n",
    "            time.sleep(2)\n",
    "            print(i)\n",
    "            position_iss.append(location_iss['iss_position'])\n",
    "            \n",
    "        if 'id' in location_sl:\n",
    "            time.sleep(240)\n",
    "            print(i)\n",
    "            position_sl.append(location_sl)\n",
    "            \n",
    "\n",
    "        else:\n",
    "            break\n",
    "\n",
    "\n",
    "    for i in location_iss:\n",
    "\n",
    "        if ['latitude']==28.4556:\n",
    "            print(f'ISS Not Clear')\n",
    "\n",
    "        if ['longitude']==-80.5278:\n",
    "            print(f'ISS Not Clear')\n",
    "\n",
    "        if ['latitude']==28.8960:\n",
    "            print(f'ISS Not Clear')\n",
    "\n",
    "        if ['longitude']==-81.1184:\n",
    "            print(f'ISS Not Clear')\n",
    "        \n",
    "        if ['longitude']==-100.9969:\n",
    "            print(f'The ISS is in a range of 2000km')\n",
    "\n",
    "        if ['latitude']==46.5012:\n",
    "            print(f'The ISS is in a range of 2000km')\n",
    "        else:\n",
    "            print(f'ISS Clear')\n",
    "            break\n",
    "\n",
    "    for i in location_sl:\n",
    "\n",
    "        if i['lat']==28.4556:\n",
    "            print(f'SL Not Clear')\n",
    "\n",
    "        if i['lng']==-80.5278:\n",
    "            print(f'SL Not Clear')\n",
    "\n",
    "        if i['lat']==28.8960:\n",
    "            print(f'SL Not Clear')\n",
    "\n",
    "        if i['lng']==-81.1184:\n",
    "            print(f'SL Not Clear')\n",
    "            \n",
    "        if i['lat']==32.9365:\n",
    "            print(f'The Starlink is in a range of 500km')\n",
    "\n",
    "        if i['lng']==-85.671860:\n",
    "            print(f'The Starlink is in a range of 500km')\n",
    "\n",
    "        else:\n",
    "            print(f'SL Clear')\n",
    "            break\n",
    "            \n",
    "            \n",
    "    df_iss = pd.DataFrame(position_iss)\n",
    "\n",
    "    return df_iss, df_sl"
   ]
  }
 ],
 "metadata": {
  "language_info": {
   "name": "python"
  },
  "orig_nbformat": 4
 },
 "nbformat": 4,
 "nbformat_minor": 2
}
